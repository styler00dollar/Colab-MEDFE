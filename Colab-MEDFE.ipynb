{
  "nbformat": 4,
  "nbformat_minor": 0,
  "metadata": {
    "colab": {
      "name": "Colab-MEDFE.ipynb",
      "private_outputs": true,
      "provenance": [],
      "collapsed_sections": [],
      "toc_visible": true
    },
    "kernelspec": {
      "name": "python3",
      "display_name": "Python 3"
    },
    "accelerator": "GPU"
  },
  "cells": [
    {
      "cell_type": "markdown",
      "metadata": {
        "id": "Kjz7DBilEyh2"
      },
      "source": [
        "# Colab-MEDFE\n",
        "\n",
        "Warning: Requires MATLAB!\n",
        "\n",
        "Original repo: [KumapowerLIU/Rethinking-Inpainting-MEDFE](https://github.com/KumapowerLIU/Rethinking-Inpainting-MEDFE)\n",
        "\n",
        "My fork: [Colab-MEDFE](https://github.com/styler00dollar/Colab-MEDFE)"
      ]
    },
    {
      "cell_type": "code",
      "metadata": {
        "id": "qTMUgxof8rdE"
      },
      "source": [
        "!nvidia-smi"
      ],
      "execution_count": null,
      "outputs": []
    },
    {
      "cell_type": "code",
      "metadata": {
        "id": "nWex1hhUDKA4",
        "cellView": "form"
      },
      "source": [
        "#@title clone and download\n",
        "!git clone https://github.com/KumapowerLIU/Rethinking-Inpainting-MEDFE\n",
        "\n",
        "%cd /content/Rethinking-Inpainting-MEDFE\n",
        "!pip install gdown\n",
        "!gdown --id 1qDShEo3AAhCkEqCXWuBTHIilu7C0HPO5\n",
        "!gdown --id 1Zvx9EE4yRIp8qi5pqkvNlHPI0D92n8B3\n",
        "!gdown --id 1BpkbXZ8GxPm9A6hluYsdX3jXpXUZFhd9\n",
        "\n",
        "!mkdir /content/masks_root/\n",
        "!mkdir /content/de_root/\n",
        "!mkdir /content/st_root/"
      ],
      "execution_count": null,
      "outputs": []
    },
    {
      "cell_type": "markdown",
      "metadata": {
        "id": "RZ0xZ2Ry9U8B"
      },
      "source": [
        "# Testing"
      ]
    },
    {
      "cell_type": "code",
      "metadata": {
        "id": "8CLjsie8EXwE",
        "cellView": "form"
      },
      "source": [
        "#@title test.py\n",
        "%%writefile /content/Rethinking-Inpainting-MEDFE/test.py\n",
        "import time\n",
        "import pdb\n",
        "from options.test_options import TestOptions\n",
        "from data.dataprocess import DataProcess\n",
        "from models.models import create_model\n",
        "import torchvision\n",
        "from torch.utils import data\n",
        "#from torch.utils.tensorboard import SummaryWriter\n",
        "import os\n",
        "import torch\n",
        "from PIL import Image\n",
        "import numpy as np\n",
        "from glob import glob\n",
        "from tqdm import tqdm\n",
        "import torchvision.transforms as transforms\n",
        "if __name__ == \"__main__\":\n",
        "\n",
        "    img_transform = transforms.Compose([\n",
        "        transforms.Resize((256, 256)),\n",
        "        transforms.ToTensor(),\n",
        "        transforms.Normalize((0.5, 0.5, 0.5), (0.5, 0.5, 0.5))\n",
        "    ])\n",
        "    mask_transform = transforms.Compose([\n",
        "        transforms.Resize((256, 256)),\n",
        "        transforms.ToTensor()\n",
        "    ])\n",
        "\n",
        "\n",
        "    opt = TestOptions().parse()\n",
        "    model = create_model(opt)\n",
        "    model.netEN.module.load_state_dict(torch.load(\"/content/Rethinking-Inpainting-MEDFE/EN.pkl\"))\n",
        "    model.netDE.module.load_state_dict(torch.load(\"/content/Rethinking-Inpainting-MEDFE/DE.pkl\"))\n",
        "    model.netMEDFE.module.load_state_dict(torch.load(\"/content/Rethinking-Inpainting-MEDFE/MEDEF.pkl\"))\n",
        "    results_dir = r'./result'\n",
        "    if not os.path.exists( results_dir):\n",
        "        os.mkdir(results_dir)\n",
        "\n",
        "    mask_paths = glob('{:s}/*'.format('/content/masks/'))\n",
        "    de_paths = glob('{:s}/*'.format('/content/de_root/'))\n",
        "    st_path = glob('{:s}/*'.format('/content/st_root/')) # structure picture with MATLAB\n",
        "    image_len = len(de_paths )\n",
        "    for i in tqdm(range(image_len)):\n",
        "        # only use one mask for all image\n",
        "        path_m = mask_paths[0]\n",
        "        path_d = de_paths[i]\n",
        "        path_s = de_paths[i]\n",
        "\n",
        "        mask = Image.open(path_m).convert(\"RGB\")\n",
        "        detail = Image.open(path_d).convert(\"RGB\")\n",
        "        structure = Image.open(path_s).convert(\"RGB\")\n",
        "\n",
        "\n",
        "        mask = mask_transform(mask)\n",
        "        detail = img_transform(detail)\n",
        "        structure = img_transform(structure)\n",
        "        mask = torch.unsqueeze(mask, 0)\n",
        "        detail = torch.unsqueeze(detail, 0)\n",
        "        structure = torch.unsqueeze(structure,0)\n",
        "\n",
        "        with torch.no_grad():\n",
        "            model.set_input(detail, structure, mask)\n",
        "            model.forward()\n",
        "            fake_out = model.fake_out\n",
        "            fake_out = fake_out.detach().cpu() * mask + detail*(1-mask)\n",
        "            fake_image = (fake_out+1)/2.0\n",
        "        output = fake_image.detach().numpy()[0].transpose((1, 2, 0))*255\n",
        "        output = Image.fromarray(output.astype(np.uint8))\n",
        "        output.save(rf\"{opt.results_dir}/{i}.png\")\n"
      ],
      "execution_count": null,
      "outputs": []
    },
    {
      "cell_type": "code",
      "metadata": {
        "id": "nljlCZN8Dm2J"
      },
      "source": [
        "!python test.py "
      ],
      "execution_count": null,
      "outputs": []
    },
    {
      "cell_type": "markdown",
      "metadata": {
        "id": "-WeWZ6UX9WkP"
      },
      "source": [
        "# Training"
      ]
    },
    {
      "cell_type": "code",
      "metadata": {
        "id": "scKanva59hia"
      },
      "source": [
        "!mkdir /content/model-checkpoints"
      ],
      "execution_count": null,
      "outputs": []
    },
    {
      "cell_type": "code",
      "metadata": {
        "id": "EP68W9MO9aWx"
      },
      "source": [
        "%cd /content/Rethinking-Inpainting-MEDFE\n",
        "!python train.py /content/st_root /content/de_root /content/mask_root --checkpoints_dir /content/model-checkpoints training1"
      ],
      "execution_count": null,
      "outputs": []
    }
  ]
}